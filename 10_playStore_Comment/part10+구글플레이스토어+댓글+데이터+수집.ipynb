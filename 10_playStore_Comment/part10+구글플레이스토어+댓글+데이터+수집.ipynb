{
 "cells": [
  {
   "cell_type": "code",
   "execution_count": 3,
   "metadata": {},
   "outputs": [
    {
     "name": "stderr",
     "output_type": "stream",
     "text": [
      "C:\\Users\\Public\\Documents\\ESTsoft\\CreatorTemp\\ipykernel_6140\\1884128249.py:14: DeprecationWarning: executable_path has been deprecated, please pass in a Service object\n",
      "  driver = webdriver.Chrome('c:\\\\rpy\\chromedriver.exe')\n"
     ]
    }
   ],
   "source": [
    "from selenium import webdriver\n",
    "from bs4 import BeautifulSoup\n",
    "import time, os\n",
    "from datetime import datetime\n",
    "import pandas as pd\n",
    "\n",
    "# 리뷰 모두보기 버튼을 누르면 링크 주소가 나온다.\n",
    "link = 'https://play.google.com/store/apps/details?id=com.unicostudio.whois&hl=ko&showAllReviews=true'\n",
    "\n",
    "# 스크롤이 필요한 수\n",
    "scroll_cnt = 5\n",
    "\n",
    "# download chrome driver https://sites.google.com/a/chromium.org/chromedriver/home\n",
    "driver = webdriver.Chrome('c:\\\\rpy\\chromedriver.exe')\n",
    "driver.get(link)  # 구글플레이 링크 주소를 가져온다.\n",
    "\n",
    "os.makedirs('result', exist_ok=True)"
   ]
  },
  {
   "cell_type": "code",
   "execution_count": 4,
   "metadata": {},
   "outputs": [
    {
     "name": "stderr",
     "output_type": "stream",
     "text": [
      "C:\\Users\\Public\\Documents\\ESTsoft\\CreatorTemp\\ipykernel_6140\\2290682482.py:8: DeprecationWarning: find_element_by_xpath is deprecated. Please use find_element(by=By.XPATH, value=xpath) instead\n",
      "  load_more = driver.find_element_by_xpath('//*[contains(@class,\"U26fgb O0WRkf oG5Srb C0oVfc n9lfJ\")]').click()\n"
     ]
    },
    {
     "name": "stdout",
     "output_type": "stream",
     "text": [
      "Cannot find load more button...\n",
      "Cannot find load more button...\n",
      "Cannot find load more button...\n",
      "Cannot find load more button...\n",
      "Cannot find load more button...\n"
     ]
    }
   ],
   "source": [
    "for i in range(scroll_cnt):\n",
    "  # 브라우저의 높이를 끝까지 내림\n",
    "  driver.execute_script('window.scrollTo(0, document.body.scrollHeight);')\n",
    "  time.sleep(3)\n",
    "\n",
    "#click 'Load more' button, if exists  클래스가 없는 경우에도 에러가 나지않는 경우\n",
    "  try:\n",
    "    load_more = driver.find_element_by_xpath('//*[contains(@class,\"U26fgb O0WRkf oG5Srb C0oVfc n9lfJ\")]').click()\n",
    "  except:\n",
    "    print('Cannot find load more button...')"
   ]
  },
  {
   "cell_type": "code",
   "execution_count": 6,
   "metadata": {
    "scrolled": true
   },
   "outputs": [
    {
     "name": "stderr",
     "output_type": "stream",
     "text": [
      "C:\\Users\\Public\\Documents\\ESTsoft\\CreatorTemp\\ipykernel_6140\\1514364374.py:14: DeprecationWarning: executable_path has been deprecated, please pass in a Service object\n",
      "  driver = webdriver.Chrome('c:\\\\rpy\\chromedriver.exe')\n",
      "C:\\Users\\Public\\Documents\\ESTsoft\\CreatorTemp\\ipykernel_6140\\1514364374.py:26: DeprecationWarning: find_element_by_xpath is deprecated. Please use find_element(by=By.XPATH, value=xpath) instead\n",
      "  load_more = driver.find_element_by_xpath('//*[contains(@class,\"U26fgb O0WRkf oG5Srb C0oVfc n9lfJ\")]').click()\n"
     ]
    },
    {
     "name": "stdout",
     "output_type": "stream",
     "text": [
      "Cannot find load more button...\n",
      "Cannot find load more button...\n",
      "There are 0 reviews avaliable!\n",
      "Writing the data...\n"
     ]
    },
    {
     "name": "stderr",
     "output_type": "stream",
     "text": [
      "C:\\Users\\Public\\Documents\\ESTsoft\\CreatorTemp\\ipykernel_6140\\1514364374.py:31: DeprecationWarning: find_elements_by_xpath is deprecated. Please use find_elements(by=By.XPATH, value=xpath) instead\n",
      "  reviews = driver.find_elements_by_xpath('//*[@jsname=\"fk8dgd\"]//div[@class=\"d15Mdf bAhLNe\"]')\n"
     ]
    },
    {
     "name": "stdout",
     "output_type": "stream",
     "text": [
      "Done!\n"
     ]
    }
   ],
   "source": [
    "from selenium import webdriver\n",
    "from bs4 import BeautifulSoup\n",
    "import time, os\n",
    "from datetime import datetime\n",
    "import pandas as pd\n",
    "\n",
    "# 리뷰 모두보기 버튼을 누르면 링크 주소가 나온다.\n",
    "link = 'https://play.google.com/store/apps/details?id=com.unicostudio.whois&hl=ko&showAllReviews=true'\n",
    "#link ='https://play.google.com/store/apps/details?id=com.google.android.apps.docs.editors.slides&hl=ko'\n",
    "# 스크롤이 필요한 수\n",
    "scroll_cnt = 2\n",
    "\n",
    "# download chrome driver https://sites.google.com/a/chromium.org/chromedriver/home\n",
    "driver = webdriver.Chrome('c:\\\\rpy\\chromedriver.exe')\n",
    "driver.get(link)  # 구글플레이 링크 주소를 가져온다.\n",
    "\n",
    "os.makedirs('result', exist_ok=True)\n",
    "\n",
    "for i in range(scroll_cnt):\n",
    "  # 브라우저의 높이를 끝까지 내림\n",
    "  driver.execute_script('window.scrollTo(0, document.body.scrollHeight);')\n",
    "  time.sleep(3)\n",
    "\n",
    "#click 'Load more' button, if exists  클래스가 없는 경우에도 에러가 나지않는 경우\n",
    "  try:\n",
    "    load_more = driver.find_element_by_xpath('//*[contains(@class,\"U26fgb O0WRkf oG5Srb C0oVfc n9lfJ\")]').click()\n",
    "  except:\n",
    "    print('Cannot find load more button...')\n",
    "\n",
    "# get review containers 전체컨테이너와 하나의 컨테이너 포함\n",
    "reviews = driver.find_elements_by_xpath('//*[@jsname=\"fk8dgd\"]//div[@class=\"d15Mdf bAhLNe\"]')\n",
    "\n",
    "print('There are %d reviews avaliable!' % len(reviews))\n",
    "print('Writing the data...')\n",
    "\n",
    "# create empty dataframe to store data\n",
    "df = pd.DataFrame(columns=['name', 'ratings', 'date', 'helpful', 'comment', 'developer_comment'])\n",
    "\n",
    "# get review data\n",
    "for review in reviews:\n",
    "  # parse string to html using bs4\n",
    "  soup = BeautifulSoup(review.get_attribute('innerHTML'), 'html.parser')\n",
    "\n",
    "  # reviewer\n",
    "  name = soup.find(class_='X43Kjb').text\n",
    "\n",
    "  # rating\n",
    "  ratings = int(soup.find('div', role='img').get('aria-label').replace('별표 5개 만점에', '').replace('개를 받았습니다.', '').strip())\n",
    "\n",
    "  # review date\n",
    "  date = soup.find(class_='p2TkOb').text\n",
    "  date = datetime.strptime(date, '%Y년 %m월 %d일')\n",
    "  date = date.strftime('%Y-%m-%d')\n",
    "\n",
    "  # helpful\n",
    "  helpful = soup.find(class_='jUL89d y92BAb').text\n",
    "  if not helpful:\n",
    "    helpful = 0\n",
    "  \n",
    "  # review text\n",
    "  comment = soup.find('span', jsname='fbQN7e').text\n",
    "  if not comment:\n",
    "    comment = soup.find('span', jsname='bN97Pc').text\n",
    "  \n",
    "  # developer comment\n",
    "  developer_comment = None\n",
    "  dc_div = soup.find('div', class_='LVQB0b')\n",
    "  if dc_div:\n",
    "    developer_comment = dc_div.text.replace('\\n', ' ')\n",
    "  \n",
    "  # append to dataframe\n",
    "  df = df.append({\n",
    "    'name': name,\n",
    "    'ratings': ratings,\n",
    "    'date': date,\n",
    "    'helpful': helpful,\n",
    "    'comment': comment,\n",
    "    'developer_comment': developer_comment\n",
    "  }, ignore_index=True)\n",
    "\n",
    "# finally save the dataframe into csv file\n",
    "filename = datetime.now().strftime('result/%Y-%m-%d_%H-%M-%S.csv')\n",
    "df.to_csv(filename, encoding='utf-8-sig', index=False)\n",
    "driver.stop_client()\n",
    "driver.close()\n",
    "\n",
    "print('Done!')\n"
   ]
  },
  {
   "cell_type": "code",
   "execution_count": 7,
   "metadata": {
    "scrolled": true
   },
   "outputs": [
    {
     "name": "stdout",
     "output_type": "stream",
     "text": [
      "Collecting google-play-scraper\n",
      "  Downloading google_play_scraper-1.2.2-py3-none-any.whl (28 kB)\n",
      "Installing collected packages: google-play-scraper\n",
      "Successfully installed google-play-scraper-1.2.2\n"
     ]
    },
    {
     "name": "stderr",
     "output_type": "stream",
     "text": [
      "WARNING: Ignoring invalid distribution -umpy (c:\\users\\korea\\anaconda3\\lib\\site-packages)\n",
      "WARNING: Ignoring invalid distribution -ecab-python3 (c:\\users\\korea\\anaconda3\\lib\\site-packages)\n",
      "WARNING: Ignoring invalid distribution -umpy (c:\\users\\korea\\anaconda3\\lib\\site-packages)\n",
      "WARNING: Ignoring invalid distribution -ecab-python3 (c:\\users\\korea\\anaconda3\\lib\\site-packages)\n",
      "WARNING: Ignoring invalid distribution -umpy (c:\\users\\korea\\anaconda3\\lib\\site-packages)\n",
      "WARNING: Ignoring invalid distribution -ecab-python3 (c:\\users\\korea\\anaconda3\\lib\\site-packages)\n",
      "WARNING: Ignoring invalid distribution -umpy (c:\\users\\korea\\anaconda3\\lib\\site-packages)\n",
      "WARNING: Ignoring invalid distribution -ecab-python3 (c:\\users\\korea\\anaconda3\\lib\\site-packages)\n",
      "WARNING: Ignoring invalid distribution -umpy (c:\\users\\korea\\anaconda3\\lib\\site-packages)\n",
      "WARNING: Ignoring invalid distribution -ecab-python3 (c:\\users\\korea\\anaconda3\\lib\\site-packages)\n",
      "WARNING: Ignoring invalid distribution -umpy (c:\\users\\korea\\anaconda3\\lib\\site-packages)\n",
      "WARNING: Ignoring invalid distribution -ecab-python3 (c:\\users\\korea\\anaconda3\\lib\\site-packages)\n",
      "WARNING: Ignoring invalid distribution -umpy (c:\\users\\korea\\anaconda3\\lib\\site-packages)\n",
      "WARNING: Ignoring invalid distribution -ecab-python3 (c:\\users\\korea\\anaconda3\\lib\\site-packages)\n"
     ]
    }
   ],
   "source": [
    "!pip install google-play-scraper"
   ]
  },
  {
   "cell_type": "code",
   "execution_count": 8,
   "metadata": {},
   "outputs": [],
   "source": [
    "from google_play_scraper import app\n",
    "import pandas as pd\n",
    "import numpy as np"
   ]
  },
  {
   "cell_type": "code",
   "execution_count": 13,
   "metadata": {},
   "outputs": [],
   "source": [
    "#US Market\n",
    "\n",
    "from google_play_scraper import Sort, reviews_all\n",
    "\n",
    "us_reviews = reviews_all(\n",
    "    'com.miracle.savethedoge.an',\n",
    "    sleep_milliseconds=0, # defaults to 0\n",
    "    lang='en', # defaults to 'en'\n",
    "    country='US', # defaults to 'us'\n",
    "    sort=Sort.NEWEST, # defaults to Sort.MOST_RELEVANT\n",
    ")\n"
   ]
  },
  {
   "cell_type": "code",
   "execution_count": 14,
   "metadata": {
    "scrolled": true
   },
   "outputs": [
    {
     "data": {
      "text/html": [
       "<div>\n",
       "<style scoped>\n",
       "    .dataframe tbody tr th:only-of-type {\n",
       "        vertical-align: middle;\n",
       "    }\n",
       "\n",
       "    .dataframe tbody tr th {\n",
       "        vertical-align: top;\n",
       "    }\n",
       "\n",
       "    .dataframe thead th {\n",
       "        text-align: right;\n",
       "    }\n",
       "</style>\n",
       "<table border=\"1\" class=\"dataframe\">\n",
       "  <thead>\n",
       "    <tr style=\"text-align: right;\">\n",
       "      <th></th>\n",
       "      <th>reviewId</th>\n",
       "      <th>userName</th>\n",
       "      <th>userImage</th>\n",
       "      <th>content</th>\n",
       "      <th>score</th>\n",
       "      <th>thumbsUpCount</th>\n",
       "      <th>reviewCreatedVersion</th>\n",
       "      <th>at</th>\n",
       "      <th>replyContent</th>\n",
       "      <th>repliedAt</th>\n",
       "    </tr>\n",
       "  </thead>\n",
       "  <tbody>\n",
       "    <tr>\n",
       "      <th>0</th>\n",
       "      <td>4a3cb7a6-44be-421f-b8a4-2f2239ff50e8</td>\n",
       "      <td>Mikayjah Malone</td>\n",
       "      <td>https://play-lh.googleusercontent.com/a/ALm5wu...</td>\n",
       "      <td>I just love it</td>\n",
       "      <td>5</td>\n",
       "      <td>0</td>\n",
       "      <td>1.0.5.8</td>\n",
       "      <td>2022-09-19 09:55:57</td>\n",
       "      <td>None</td>\n",
       "      <td>None</td>\n",
       "    </tr>\n",
       "    <tr>\n",
       "      <th>1</th>\n",
       "      <td>e4092f2a-4929-4f69-b82c-1d2266ab8101</td>\n",
       "      <td>Amy Miller</td>\n",
       "      <td>https://play-lh.googleusercontent.com/a/ALm5wu...</td>\n",
       "      <td>There is to many adds</td>\n",
       "      <td>1</td>\n",
       "      <td>0</td>\n",
       "      <td>None</td>\n",
       "      <td>2022-09-19 09:29:40</td>\n",
       "      <td>None</td>\n",
       "      <td>None</td>\n",
       "    </tr>\n",
       "    <tr>\n",
       "      <th>2</th>\n",
       "      <td>e9356773-a2a6-479e-a4e7-a8ada414b58f</td>\n",
       "      <td>orang skurt</td>\n",
       "      <td>https://play-lh.googleusercontent.com/a-/ACNPE...</td>\n",
       "      <td>I really like this game it's cute and fun.</td>\n",
       "      <td>5</td>\n",
       "      <td>0</td>\n",
       "      <td>1.0.5.8</td>\n",
       "      <td>2022-09-19 09:25:06</td>\n",
       "      <td>None</td>\n",
       "      <td>None</td>\n",
       "    </tr>\n",
       "    <tr>\n",
       "      <th>3</th>\n",
       "      <td>5655655f-d859-4740-9bfc-86b137e4f170</td>\n",
       "      <td>S Alvarez</td>\n",
       "      <td>https://play-lh.googleusercontent.com/a-/ACNPE...</td>\n",
       "      <td>It is a good game!!!</td>\n",
       "      <td>5</td>\n",
       "      <td>0</td>\n",
       "      <td>1.0.5.8</td>\n",
       "      <td>2022-09-19 09:06:22</td>\n",
       "      <td>None</td>\n",
       "      <td>None</td>\n",
       "    </tr>\n",
       "    <tr>\n",
       "      <th>4</th>\n",
       "      <td>ed792de8-8131-481d-9f11-55160ced8063</td>\n",
       "      <td>Meow Meow</td>\n",
       "      <td>https://play-lh.googleusercontent.com/a/ALm5wu...</td>\n",
       "      <td>Fun time waster, but an ad after EVERY level. ...</td>\n",
       "      <td>1</td>\n",
       "      <td>0</td>\n",
       "      <td>1.0.5.8</td>\n",
       "      <td>2022-09-19 09:02:01</td>\n",
       "      <td>None</td>\n",
       "      <td>None</td>\n",
       "    </tr>\n",
       "  </tbody>\n",
       "</table>\n",
       "</div>"
      ],
      "text/plain": [
       "                               reviewId         userName  \\\n",
       "0  4a3cb7a6-44be-421f-b8a4-2f2239ff50e8  Mikayjah Malone   \n",
       "1  e4092f2a-4929-4f69-b82c-1d2266ab8101       Amy Miller   \n",
       "2  e9356773-a2a6-479e-a4e7-a8ada414b58f      orang skurt   \n",
       "3  5655655f-d859-4740-9bfc-86b137e4f170        S Alvarez   \n",
       "4  ed792de8-8131-481d-9f11-55160ced8063        Meow Meow   \n",
       "\n",
       "                                           userImage  \\\n",
       "0  https://play-lh.googleusercontent.com/a/ALm5wu...   \n",
       "1  https://play-lh.googleusercontent.com/a/ALm5wu...   \n",
       "2  https://play-lh.googleusercontent.com/a-/ACNPE...   \n",
       "3  https://play-lh.googleusercontent.com/a-/ACNPE...   \n",
       "4  https://play-lh.googleusercontent.com/a/ALm5wu...   \n",
       "\n",
       "                                             content  score  thumbsUpCount  \\\n",
       "0                                     I just love it      5              0   \n",
       "1                              There is to many adds      1              0   \n",
       "2         I really like this game it's cute and fun.      5              0   \n",
       "3                               It is a good game!!!      5              0   \n",
       "4  Fun time waster, but an ad after EVERY level. ...      1              0   \n",
       "\n",
       "  reviewCreatedVersion                  at replyContent repliedAt  \n",
       "0              1.0.5.8 2022-09-19 09:55:57         None      None  \n",
       "1                 None 2022-09-19 09:29:40         None      None  \n",
       "2              1.0.5.8 2022-09-19 09:25:06         None      None  \n",
       "3              1.0.5.8 2022-09-19 09:06:22         None      None  \n",
       "4              1.0.5.8 2022-09-19 09:02:01         None      None  "
      ]
     },
     "execution_count": 14,
     "metadata": {},
     "output_type": "execute_result"
    }
   ],
   "source": [
    "df_busu = pd.DataFrame(np.array(us_reviews),columns=['review'])\n",
    "df_busu = df_busu.join(pd.DataFrame(df_busu.pop('review').tolist()))\n",
    "df_busu.head()"
   ]
  },
  {
   "cell_type": "code",
   "execution_count": 20,
   "metadata": {},
   "outputs": [],
   "source": [
    "df_busu.to_csv(\"dodo.csv\", encoding='utf-8-sig', index=False)"
   ]
  }
 ],
 "metadata": {
  "kernelspec": {
   "display_name": "Python 3 (ipykernel)",
   "language": "python",
   "name": "python3"
  },
  "language_info": {
   "codemirror_mode": {
    "name": "ipython",
    "version": 3
   },
   "file_extension": ".py",
   "mimetype": "text/x-python",
   "name": "python",
   "nbconvert_exporter": "python",
   "pygments_lexer": "ipython3",
   "version": "3.8.13"
  }
 },
 "nbformat": 4,
 "nbformat_minor": 2
}
